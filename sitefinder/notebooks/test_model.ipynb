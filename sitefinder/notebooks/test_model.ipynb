{
 "cells": [
  {
   "cell_type": "code",
   "execution_count": 1,
   "metadata": {},
   "outputs": [],
   "source": [
    "import numpy as np\n",
    "import sys\n",
    "from os import listdir\n",
    "from os.path import isfile, join\n",
    "from tqdm import tqdm\n",
    "import matplotlib.pyplot as plt\n",
    "\n",
    "from site_utils import *\n",
    "from model_utils import *\n",
    "from data_utils import *\n",
    "from model import *\n",
    "\n",
    "import torch\n",
    "import torch.nn as nn\n",
    "import torch.optim as optim\n",
    "from torch.utils.data import DataLoader\n",
    "from torch.utils.data import TensorDataset\n",
    "from torchnet.dataset import ListDataset\n",
    "import torch.optim.lr_scheduler as lr_scheduler\n",
    "import torch.nn.functional as F\n",
    "from torch.nn.parallel.data_parallel import DataParallel"
   ]
  },
  {
   "cell_type": "markdown",
   "metadata": {},
   "source": [
    "## Model Testing\n",
    "\n",
    "In this notebook, we load our current best performing model and compute evaluation metrics for the training and testing set used. Additionally, we provide code for specific protein testing for later use in PYMOL.\n",
    "\n",
    "Future work will incorporate PYMOL more directly into scripting. "
   ]
  },
  {
   "cell_type": "code",
   "execution_count": 2,
   "metadata": {},
   "outputs": [
    {
     "name": "stdout",
     "output_type": "stream",
     "text": [
      "Using GPU.\n"
     ]
    }
   ],
   "source": [
    "device, num_workers, pin_memory, dtype = check_gpu()"
   ]
  },
  {
   "cell_type": "code",
   "execution_count": 3,
   "metadata": {},
   "outputs": [
    {
     "name": "stdout",
     "output_type": "stream",
     "text": [
      "Using  2  GPUs.\n",
      "------------------------------------\n"
     ]
    }
   ],
   "source": [
    "model = ConvNet4()\n",
    "model.load_state_dict(torch.load('results/cnn4_full_xSmooth1.pt'))\n",
    "\n",
    "if torch.cuda.device_count() > 1: \n",
    "    print(\"Using \", torch.cuda.device_count(), \" GPUs.\")\n",
    "    print('------------------------------------')\n",
    "    model = DataParallel(model)\n",
    "\n",
    "model = model.to(device=device)"
   ]
  },
  {
   "cell_type": "markdown",
   "metadata": {},
   "source": [
    "## Load Data and Set Parameters Needed for Evaluation"
   ]
  },
  {
   "cell_type": "code",
   "execution_count": 4,
   "metadata": {},
   "outputs": [],
   "source": [
    "batch_size = 250\n",
    "split = 0.8\n",
    "\n",
    "data = np.load('./datasets/dataset_400_maps.npy')\n",
    "labels = np.load('./datasets/dataset_400_smoothlabels.npy')\n",
    "labels[labels > 0] = 1\n",
    "\n",
    "# Pull Out Testing Data\n",
    "test_data = data[:500,:,:]\n",
    "test_labels = labels[:500,:]\n",
    "data = data[500:,:,:]\n",
    "labels = labels[500:,:]"
   ]
  },
  {
   "cell_type": "markdown",
   "metadata": {},
   "source": [
    "## Load Dataset into PyTorch Loaders"
   ]
  },
  {
   "cell_type": "code",
   "execution_count": 16,
   "metadata": {},
   "outputs": [],
   "source": [
    "x_train = torch.from_numpy(data).to(dtype=torch.float)\n",
    "y_train = torch.from_numpy(labels)\n",
    "\n",
    "x_test = torch.from_numpy(test_data).to(dtype=torch.float)\n",
    "y_test = torch.from_numpy(test_labels)\n",
    "\n",
    "train_dataset = TensorDataset(x_train,y_train)\n",
    "test_dataset = TensorDataset(x_test,y_test)\n",
    "\n",
    "train_loader = DataLoader(dataset=train_dataset, batch_size=batch_size, num_workers=num_workers, pin_memory=pin_memory)\n",
    "\n",
    "test_loader = DataLoader(dataset=test_dataset, batch_size=batch_size, num_workers=num_workers, pin_memory=pin_memory)"
   ]
  },
  {
   "cell_type": "code",
   "execution_count": 17,
   "metadata": {},
   "outputs": [
    {
     "name": "stdout",
     "output_type": "stream",
     "text": [
      "train ==> Precision: 0.8291 | Recall: 0.7204 | F1: 0.77 | Accuracy: 0.963\n"
     ]
    }
   ],
   "source": [
    "training_results = check_metrics(train_loader, model, 'train')"
   ]
  },
  {
   "cell_type": "code",
   "execution_count": 18,
   "metadata": {},
   "outputs": [
    {
     "name": "stdout",
     "output_type": "stream",
     "text": [
      "test ==> Precision: 0.5451 | Recall: 0.3772 | F1: 0.45 | Accuracy: 0.915\n"
     ]
    }
   ],
   "source": [
    "testing_results = check_metrics(test_loader, model, 'test')"
   ]
  },
  {
   "cell_type": "markdown",
   "metadata": {},
   "source": [
    "## Testing for Individual Proteins\n",
    "\n",
    "These results are able to be fed into the PYMOL script. \n",
    "\n",
    "Input the protein ID of choice that is included in the dataset. This will then output a numpy array (pdb_id_output.npy) that will then interface with the PYMOL script. "
   ]
  },
  {
   "cell_type": "code",
   "execution_count": 13,
   "metadata": {},
   "outputs": [],
   "source": [
    "pdb_id = '5e7d'"
   ]
  },
  {
   "cell_type": "code",
   "execution_count": 14,
   "metadata": {},
   "outputs": [
    {
     "name": "stdout",
     "output_type": "stream",
     "text": [
      "Saved file!\n"
     ]
    }
   ],
   "source": [
    "maps_dir = '../data/parsed/maps/'\n",
    "labels_dir = '../data/parsed/labels/'\n",
    "\n",
    "protein_map = np.load(maps_dir + pdb_id + '.npy')\n",
    "protein_label = np.load(labels_dir + pdb_id + '.npy')\n",
    "\n",
    "output = generate_output(protein_map, protein_label, model)\n",
    "np.save(pdb_id + '_output.npy', output)\n",
    "print('Saved file!')"
   ]
  },
  {
   "cell_type": "markdown",
   "metadata": {},
   "source": [
    "## Find PDBs from Testing Set to Use for Qualitative Validation\n",
    "\n",
    "To select PDBs specifically from the testing set"
   ]
  },
  {
   "cell_type": "code",
   "execution_count": 5,
   "metadata": {},
   "outputs": [],
   "source": [
    "names = np.load('./datasets/dataset_400.npy')"
   ]
  },
  {
   "cell_type": "code",
   "execution_count": 6,
   "metadata": {},
   "outputs": [
    {
     "data": {
      "text/plain": [
       "array(['2vk5.npy', '5d8g.npy', '1gro.npy', '2owq.npy', '5kl0.npy',\n",
       "       '5vve.npy', '2eak.npy', '3rs8.npy', '5c6w.npy', '4nye.npy',\n",
       "       '3nbx.npy', '3u4l.npy', '4ymb.npy', '4ej5.npy', '4od3.npy',\n",
       "       '2yqc.npy', '5g3l.npy', '3ex3.npy', '4xcc.npy', '1kyn.npy',\n",
       "       '5ehg.npy', '4m8j.npy', '4d5k.npy', '4pw9.npy', '4kzj.npy',\n",
       "       '3mdm.npy', '5htp.npy', '2fg0.npy', '1nt0.npy', '2qnu.npy',\n",
       "       '2ewm.npy', '3roa.npy', '6c4r.npy', '5ob5.npy', '3vny.npy',\n",
       "       '1lvb.npy', '2h52.npy', '4jkc.npy', '1dfp.npy', '4htf.npy',\n",
       "       '5tmw.npy', '3oli.npy', '2r0p.npy', '4jk9.npy', '4gr9.npy',\n",
       "       '5n5p.npy', '5fv3.npy', '3thq.npy', '3p5d.npy', '4o82.npy',\n",
       "       '1ro8.npy', '1dlj.npy', '1bcr.npy', '4jge.npy', '4d25.npy',\n",
       "       '3mez.npy', '3uon.npy', '5x79.npy', '3lkk.npy', '1zct.npy',\n",
       "       '3bca.npy', '5qbu.npy', '3p6n.npy', '5g3f.npy', '5jkv.npy',\n",
       "       '1so4.npy', '5fy4.npy', '3iv0.npy', '3dwo.npy', '5dbv.npy',\n",
       "       '3x3f.npy', '5vaw.npy', '5az7.npy', '5fz3.npy', '1q0y.npy',\n",
       "       '3ik2.npy', '3zdo.npy', '4rue.npy', '3p61.npy', '4qn8.npy',\n",
       "       '5jii.npy', '2wbm.npy', '4bdq.npy', '2gst.npy', '2ftw.npy',\n",
       "       '3dzi.npy', '4tpr.npy', '2yll.npy', '2dpt.npy', '1kgi.npy',\n",
       "       '3of5.npy', '4k87.npy', '4j9k.npy', '3ku0.npy', '6ev6.npy',\n",
       "       '2fer.npy', '1h3u.npy', '2xsp.npy', '4ha6.npy', '4u7f.npy',\n",
       "       '3nua.npy', '3drt.npy', '4u54.npy', '1g69.npy', '3w2y.npy',\n",
       "       '1gyc.npy', '4ed3.npy', '5y7a.npy', '3qf0.npy', '3tjl.npy',\n",
       "       '1dt6.npy', '1ie4.npy', '1qd6.npy', '2ete.npy', '4we4.npy',\n",
       "       '4awq.npy', '4jea.npy', '4wso.npy', '3oqj.npy', '1gse.npy',\n",
       "       '5a5y.npy', '1pdz.npy', '2zgw.npy', '4gq3.npy', '1qr2.npy',\n",
       "       '4rvz.npy', '3g3h.npy', '3u1q.npy', '5o8e.npy', '2bn7.npy',\n",
       "       '4knm.npy', '1mky.npy', '5uiw.npy', '1afa.npy', '1g6t.npy',\n",
       "       '4cph.npy', '1dwi.npy', '1ika.npy', '4s1b.npy', '5ea5.npy',\n",
       "       '1qi5.npy', '5jum.npy', '6bdi.npy', '5mox.npy', '1i5e.npy',\n",
       "       '3hml.npy', '4f7a.npy', '1dkp.npy', '4q5f.npy', '2xhk.npy',\n",
       "       '3q80.npy', '6aov.npy', '6ax8.npy', '5d3f.npy', '5tzr.npy',\n",
       "       '5fy9.npy', '3uxh.npy', '4hz2.npy', '1pg2.npy', '5b5g.npy',\n",
       "       '4rho.npy', '2i76.npy', '3wc3.npy', '2fno.npy', '3qw5.npy',\n",
       "       '1grb.npy', '4n7j.npy', '1cf5.npy', '2fzn.npy', '5mia.npy',\n",
       "       '3g3i.npy', '2qgw.npy', '2h6b.npy', '3dl0.npy', '1s3k.npy',\n",
       "       '2uyf.npy', '2w1k.npy', '2esf.npy', '1ish.npy', '4brw.npy',\n",
       "       '4bsc.npy', '4za4.npy', '5otf.npy', '3a5n.npy', '2bh3.npy',\n",
       "       '4l2h.npy', '1ozl.npy', '3oij.npy', '1mrc.npy', '3dhv.npy',\n",
       "       '3edp.npy', '2b82.npy', '3ia6.npy', '5bnc.npy', '2j9a.npy',\n",
       "       '3ry9.npy', '3da2.npy', '1tu6.npy', '5il1.npy', '1gq9.npy',\n",
       "       '3spe.npy', '4mdd.npy', '1jec.npy', '1g13.npy', '1s3f.npy',\n",
       "       '4ike.npy', '1e33.npy', '1tz8.npy', '1cpt.npy', '3bso.npy',\n",
       "       '5axl.npy', '2qmy.npy', '2bzs.npy', '4i0c.npy', '4bgw.npy',\n",
       "       '1shj.npy', '4d4k.npy', '3sz0.npy', '1n9m.npy', '4wzq.npy',\n",
       "       '4jme.npy', '6c42.npy', '5q0p.npy', '4ctd.npy', '2p15.npy',\n",
       "       '3ook.npy', '1ska.npy', '1q5i.npy', '3mwu.npy', '7std.npy',\n",
       "       '4c6v.npy', '1c5c.npy', '2f90.npy', '1r89.npy', '3bng.npy',\n",
       "       '2qcd.npy', '4eji.npy', '5eyi.npy', '3g2o.npy', '1vf3.npy',\n",
       "       '5yzd.npy', '2yfb.npy', '5d76.npy', '3in0.npy', '3mw7.npy',\n",
       "       '3da8.npy', '2q6r.npy', '4cv2.npy', '4py6.npy', '5umu.npy',\n",
       "       '3rpq.npy', '4a2e.npy', '5h0h.npy', '5b8h.npy', '2dto.npy',\n",
       "       '5ko7.npy', '4ure.npy', '2xwa.npy', '3vxi.npy', '1g4k.npy',\n",
       "       '4xdh.npy', '6bqz.npy', '1gws.npy', '4axd.npy', '1mfb.npy',\n",
       "       '4mq0.npy', '5aqk.npy', '4doi.npy', '4jlt.npy', '4aut.npy',\n",
       "       '1gkb.npy', '5m34.npy', '3lxe.npy', '4pp0.npy', '1kb3.npy',\n",
       "       '1dge.npy', '2jie.npy', '4io5.npy', '3go9.npy', '4pd8.npy',\n",
       "       '5tgs.npy', '3q2l.npy', '1nel.npy', '1l2j.npy', '1ucn.npy',\n",
       "       '2yp7.npy', '1n3p.npy', '3uaa.npy', '3bxp.npy', '1dwq.npy',\n",
       "       '5ah1.npy', '5nf2.npy', '4mqa.npy', '3kya.npy', '2yft.npy',\n",
       "       '3tot.npy', '4p1h.npy', '4lk7.npy', '4zec.npy', '3lhu.npy',\n",
       "       '2w5s.npy', '4ako.npy', '3nho.npy', '4lkh.npy', '4cb0.npy',\n",
       "       '3cn9.npy', '5tlu.npy', '1lxc.npy', '5t47.npy', '5o06.npy',\n",
       "       '3r1i.npy', '5dj2.npy', '1tn0.npy', '1y89.npy', '4xnl.npy',\n",
       "       '1m0u.npy', '3i5x.npy', '5g2r.npy', '2opk.npy', '4il8.npy',\n",
       "       '4cyn.npy', '2qfq.npy', '2uye.npy', '3mtw.npy', '4xc5.npy',\n",
       "       '4nar.npy', '3vdg.npy', '3w6i.npy', '2x9w.npy', '1g94.npy',\n",
       "       '3ubk.npy', '1kdt.npy', '3lty.npy', '3ibs.npy', '4pol.npy',\n",
       "       '3dww.npy', '5t1a.npy', '2bu3.npy', '4guj.npy', '3owu.npy',\n",
       "       '2v0h.npy', '2f8e.npy', '1b4w.npy', '5n0h.npy', '2dth.npy',\n",
       "       '5o02.npy', '3owx.npy', '4uo4.npy', '3lmj.npy', '4wx8.npy',\n",
       "       '1fv2.npy', '3g3f.npy', '4m1o.npy', '3kme.npy', '2x87.npy',\n",
       "       '3gj4.npy', '2wky.npy', '5tt0.npy', '4ecu.npy', '1tdi.npy',\n",
       "       '2b7y.npy', '4i7i.npy', '2f9a.npy', '4n4k.npy', '4yhm.npy',\n",
       "       '2fv9.npy', '10gs.npy', '3dpi.npy', '3vu0.npy', '4cr0.npy',\n",
       "       '5tc0.npy', '5y2o.npy', '4o79.npy', '1gkm.npy', '3r79.npy',\n",
       "       '2yym.npy', '4gz1.npy', '2jje.npy', '3nek.npy', '3asz.npy',\n",
       "       '2w96.npy', '5jms.npy', '3g8b.npy', '3ehj.npy', '4m0c.npy',\n",
       "       '4fyh.npy', '1rr2.npy', '5nut.npy', '4ole.npy', '3hq5.npy',\n",
       "       '3eof.npy', '3vuf.npy', '4dld.npy', '2bqp.npy', '3gc6.npy',\n",
       "       '3lc0.npy', '1dvr.npy', '2iyo.npy', '4iw6.npy', '3rid.npy',\n",
       "       '5tlt.npy', '4oyv.npy', '2gxf.npy', '2cye.npy', '1xcw.npy',\n",
       "       '5td4.npy', '3eem.npy', '1e2w.npy', '5iaw.npy', '4fxr.npy',\n",
       "       '5x8o.npy', '4qgo.npy', '1b14.npy', '5jik.npy', '4feh.npy',\n",
       "       '3v5p.npy', '3q6x.npy', '4dxa.npy', '1b4v.npy', '2uwx.npy',\n",
       "       '3zks.npy', '1mn9.npy', '4dg8.npy', '4r9x.npy', '4pd1.npy',\n",
       "       '3dsf.npy', '3khm.npy', '1eob.npy', '4q18.npy', '4bjp.npy',\n",
       "       '3oqp.npy', '1k3l.npy', '4r8s.npy', '1nt2.npy', '5h0v.npy',\n",
       "       '3hao.npy', '3w4t.npy', '3qs5.npy', '2dga.npy', '5fz4.npy',\n",
       "       '5l86.npy', '5h91.npy', '5eyw.npy', '3mm3.npy', '2xfr.npy',\n",
       "       '2qft.npy', '5q15.npy', '4apx.npy', '3boh.npy', '5b8f.npy',\n",
       "       '1xcx.npy', '4nlr.npy', '5a3n.npy', '5la9.npy', '1m2t.npy',\n",
       "       '1a2n.npy', '2w7d.npy', '1the.npy', '3l3q.npy', '5j3z.npy',\n",
       "       '3c7g.npy', '3mdi.npy', '3bxg.npy', '4bu9.npy', '5ue3.npy',\n",
       "       '3vio.npy', '3moo.npy', '4w6f.npy', '5h67.npy', '3e9k.npy',\n",
       "       '2hrh.npy', '4l5b.npy', '1byb.npy', '4ij6.npy', '1x0i.npy',\n",
       "       '3vtf.npy', '1kv5.npy', '4wkz.npy', '3fbz.npy', '4eyl.npy',\n",
       "       '2o7s.npy', '3lv6.npy', '5e7d.npy', '3nmt.npy', '3epv.npy',\n",
       "       '5fc7.npy', '4pku.npy', '4xxa.npy', '1rdp.npy', '1z0k.npy',\n",
       "       '1ud6.npy', '1otw.npy', '3dzk.npy', '2hmq.npy', '4mgb.npy',\n",
       "       '2i4i.npy', '5fsc.npy', '3x1i.npy', '2wel.npy', '1kbk.npy'],\n",
       "      dtype='<U8')"
      ]
     },
     "execution_count": 6,
     "metadata": {},
     "output_type": "execute_result"
    }
   ],
   "source": [
    "names[:500]"
   ]
  },
  {
   "cell_type": "code",
   "execution_count": null,
   "metadata": {},
   "outputs": [],
   "source": []
  }
 ],
 "metadata": {
  "kernelspec": {
   "display_name": "Python 3",
   "language": "python",
   "name": "python3"
  },
  "language_info": {
   "codemirror_mode": {
    "name": "ipython",
    "version": 3
   },
   "file_extension": ".py",
   "mimetype": "text/x-python",
   "name": "python",
   "nbconvert_exporter": "python",
   "pygments_lexer": "ipython3",
   "version": "3.6.4"
  }
 },
 "nbformat": 4,
 "nbformat_minor": 2
}
